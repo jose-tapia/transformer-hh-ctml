{
 "cells": [
  {
   "cell_type": "markdown",
   "metadata": {},
   "source": [
    "# Hyper-Heuristic based on Transformers for Solving Continuous Optimisation Problems\n",
    "\n",
    "This work aims to integrate and explore the usage of Transformers in Hyper-Heuristic models to generate modified metaheuristics that solve continuous optimisation problems.\n",
    "\n",
    "As a first stage of the exploration, all the experiments are executed on a single optimisation problem; the Sphere function with ten dimensions. \n",
    "\n",
    "Two approaches were studied:\n",
    "- Use the transformers to classify metaheuristics into the available search operators.\n",
    "- Use the transformers to generate text based on a sentence that comprises the metaheuristic.\n",
    "\n",
    "The hyper-heuristic generates metaheuristics by selecting a set of search operators (simple heuristics) from a collection that contains 205 different operators.\n",
    "\n",
    "These two approaches were explored using two different representations of a metaheuristic:\n",
    "- The metaheuristic as the sequence of indices of the search operators.\n",
    "  - For example, 66, 196\n",
    "- The metaheuristic as the sequence of a plain description of the search operators.\n",
    "  - For example, ('genetic_crossover', {'pairing': 'random', 'crossover': 'two', 'mating_pool_factor': 0.4}, 'all'), ('genetic_crossover', {'pairing': 'random', 'crossover': 'linear_0.5_0.5', 'mating_pool_factor': 0.4}, 'all')\n",
    "- Or the metaheuristic as the sequence of compressed representation of the simple heuristics\n",
    "  - For example, 'GC,r;two;0.4,d' and 'GC,r;l;0.4,d'"
   ]
  },
  {
   "cell_type": "markdown",
   "metadata": {},
   "source": [
    "# Modules"
   ]
  },
  {
   "cell_type": "code",
   "execution_count": 1,
   "metadata": {},
   "outputs": [],
   "source": [
    "import numpy as np\n",
    "import pandas as pd\n",
    "import matplotlib.pyplot as plt\n",
    "import scipy.stats as st\n",
    "\n",
    "import operators as Operators\n",
    "import benchmark_func as bf\n",
    "from metaheuristic import Metaheuristic\n",
    "from hyperheuristic import Hyperheuristic, _save_step\n",
    "from neural_network import ModelPredictorTransformerOriginal, DatasetSequences, ModelPredictorKeras\n",
    "from encode_operators import compress_operator, decompress_operator\n",
    "from tools import read_json\n",
    "\n",
    "from transformers import PreTrainedTokenizerFast, \\\n",
    "  AutoModelForSequenceClassification, AutoTokenizer, \\\n",
    "  TrainingArguments, Trainer, DataCollatorWithPadding, \\\n",
    "  GPT2LMHeadModel, AutoConfig, DataCollatorForLanguageModeling, \\\n",
    "    pipeline\n",
    "from datasets import load_metric as load_metric_hf \n",
    "from datasets import Dataset as Dataset_hf\n",
    "\n",
    "from timeit import default_timer as timer"
   ]
  },
  {
   "cell_type": "markdown",
   "metadata": {},
   "source": [
    "HuggingfaceHub to support upload and download models"
   ]
  },
  {
   "cell_type": "code",
   "execution_count": 2,
   "metadata": {},
   "outputs": [],
   "source": [
    "from huggingface_hub import notebook_login\n",
    "# notebook_login()"
   ]
  },
  {
   "cell_type": "markdown",
   "metadata": {},
   "source": [
    "# Collection of Search Operators"
   ]
  },
  {
   "cell_type": "code",
   "execution_count": 3,
   "metadata": {},
   "outputs": [],
   "source": [
    "# Read operators and find their alias\n",
    "collections = ['default.txt']\n",
    "encoded_heuristic_space = dict()\n",
    "operators_string = dict()\n",
    "for collection_file in collections:\n",
    "    with open('./collections/' + collection_file, 'r') as operators_file:\n",
    "        operators_string[collection_file] = [line.rstrip('\\n') for line in operators_file]\n",
    "        encoded_heuristic_space[collection_file] = [eval(line) for line in operators_string[collection_file]]"
   ]
  },
  {
   "cell_type": "code",
   "execution_count": 4,
   "metadata": {},
   "outputs": [
    {
     "data": {
      "text/plain": [
       "[('random_search', {'scale': 1.0, 'distribution': 'uniform'}, 'greedy'),\n",
       " ('central_force_dynamic',\n",
       "  {'gravity': 0.001, 'alpha': 0.01, 'beta': 1.5, 'dt': 1.0},\n",
       "  'all'),\n",
       " ('central_force_dynamic',\n",
       "  {'gravity': 0.001, 'alpha': 0.01, 'beta': 1.5, 'dt': 1.0},\n",
       "  'greedy')]"
      ]
     },
     "execution_count": 4,
     "metadata": {},
     "output_type": "execute_result"
    }
   ],
   "source": [
    "encoded_heuristic_space['default.txt'][:3]"
   ]
  },
  {
   "cell_type": "code",
   "execution_count": 5,
   "metadata": {},
   "outputs": [
    {
     "data": {
      "text/plain": [
       "[\"('random_search', {'scale': 1.0, 'distribution': 'uniform'}, 'greedy')\",\n",
       " \"('central_force_dynamic', {'gravity': 0.001, 'alpha': 0.01, 'beta': 1.5, 'dt': 1.0}, 'all')\",\n",
       " \"('central_force_dynamic', {'gravity': 0.001, 'alpha': 0.01, 'beta': 1.5, 'dt': 1.0}, 'greedy')\"]"
      ]
     },
     "execution_count": 5,
     "metadata": {},
     "output_type": "execute_result"
    }
   ],
   "source": [
    "operators_string['default.txt'][:3]"
   ]
  },
  {
   "cell_type": "markdown",
   "metadata": {},
   "source": [
    "# Generator of Metaheuristics"
   ]
  },
  {
   "cell_type": "markdown",
   "metadata": {},
   "source": [
    "Use this function to generate metaheuristics given the machine learning model that have the 'predict' method."
   ]
  },
  {
   "cell_type": "code",
   "execution_count": 6,
   "metadata": {},
   "outputs": [],
   "source": [
    "def generate_metaheuristics(model, params, num_replicas=100, do_compression=False):\n",
    "  problem = bf.Sphere(10)\n",
    "  file_label = params['file_label']\n",
    "  hh = Hyperheuristic(problem=problem.get_formatted_problem(),\n",
    "                      heuristic_space='default.txt',\n",
    "                      file_label=file_label)\n",
    "  hh.parameters['num_agents'] = 30\n",
    "  hh.parameters['num_steps'] = 100\n",
    "  hh.parameters['stagnation_percentage'] = 0.5\n",
    "  hh.parameters['verbose'] = True\n",
    "\n",
    "  sequence_per_repetition = list()\n",
    "  fitness_per_repetition = list()\n",
    "  logs_time = []\n",
    "  for rep in range(num_replicas):\n",
    "      # Metaheuristic\n",
    "      start_time = timer()\n",
    "      mh = Metaheuristic(hh.problem, num_agents=hh.parameters['num_agents'], num_iterations=hh.num_iterations)\n",
    "\n",
    "      # Initialiser\n",
    "      mh.apply_initialiser()\n",
    "\n",
    "      # Extract the population and fitness values, and their best values\n",
    "      current_fitness = np.copy(mh.pop.global_best_fitness)\n",
    "      current_position = np.copy(mh.pop.rescale_back(mh.pop.global_best_position))\n",
    "\n",
    "      # Heuristic sets\n",
    "      hh.current_space = np.arange(hh.num_operators)\n",
    "\n",
    "      # Initialise additional variables\n",
    "      candidate_enc_so = list()\n",
    "      current_sequence = []\n",
    "\n",
    "      best_fitness = [current_fitness]\n",
    "      best_position = [current_position]\n",
    "\n",
    "      step = 0\n",
    "      stag_counter = 0\n",
    "      exclude_indices = []\n",
    "      normalize_weights = lambda w: w / sum(w) if sum(w) > 0 else np.ones(hh.num_operators) / hh.num_operators\n",
    "\n",
    "      # Finalisator\n",
    "      while not hh._check_finalisation(step, stag_counter):\n",
    "          # Use the trained model to predict operators weights\n",
    "          if stag_counter == 0:\n",
    "              if len(current_sequence) == 0:\n",
    "                  operator_prediction = np.array(np.ones(hh.num_operators))\n",
    "              else:\n",
    "                  if do_compression:\n",
    "                    # Can be True if tokenizer handle compressed representation of search operators\n",
    "                    compress_seq = [compress_operator(encoded_heuristic_space['default.txt'][op]) for op in current_sequence]\n",
    "                    operator_prediction = model.predict(compress_seq)\n",
    "                  else:\n",
    "                    operator_prediction = model.predict(current_sequence)\n",
    "              operators_weights = normalize_weights(operator_prediction)\n",
    "\n",
    "          # Select a simple heuristic and apply it\n",
    "          candidate_enc_so = hh._obtain_candidate_solution(sol=1, operators_weights=operators_weights)\n",
    "          candidate_search_operator = hh.get_operators([candidate_enc_so[-1]])\n",
    "          perturbators, selectors = Operators.process_operators(candidate_search_operator)\n",
    "\n",
    "          mh.apply_search_operator(perturbators[0], selectors[0])\n",
    "\n",
    "          # Extract population and fitness values\n",
    "          current_fitness = np.copy(mh.pop.global_best_fitness)\n",
    "          current_position = np.copy(mh.pop.rescale_back(mh.pop.global_best_position))\n",
    "\n",
    "          # Print update\n",
    "          if hh.parameters['verbose']:\n",
    "              print(\n",
    "                  '{} :: Transformer, Rep: {:3d}, Step: {:3d}, Trial: {:3d}, SO: {:30s}, currPerf: {:.2e}, candPerf: {:.2e}, '\n",
    "                  'csl: {:3d}'.format(\n",
    "                      hh.file_label, rep + 1, step + 1, stag_counter,\n",
    "                      candidate_search_operator[0][0] + ' & ' + candidate_search_operator[0][2][:4],\n",
    "                      best_fitness[-1], current_fitness, len(hh.current_space)), end=' ')\n",
    "\n",
    "          # If the candidate solution is better or equal than the current best solution\n",
    "          if current_fitness < best_fitness[-1]:\n",
    "              # Update the current sequence and its characteristics\n",
    "              current_sequence.append(candidate_enc_so[-1])\n",
    "\n",
    "              best_fitness.append(current_fitness)\n",
    "              best_position.append(current_position)\n",
    "\n",
    "              # Update counters\n",
    "              step += 1\n",
    "              stag_counter = 0\n",
    "              # Reset tabu list\n",
    "              exclude_indices = []\n",
    "\n",
    "              # Add improvement mark\n",
    "              if hh.parameters['verbose']:\n",
    "                  print('+', end='')\n",
    "\n",
    "          else:  # Then try another search operator\n",
    "              # Revert the modification to the population in the mh object\n",
    "              mh.pop.revert_positions()\n",
    "\n",
    "              # Update stagnation\n",
    "              stag_counter += 1\n",
    "              if stag_counter % 5 == 0:\n",
    "                  # Include last search operator's index to the tabu list\n",
    "                  exclude_indices.append(candidate_enc_so[-1])\n",
    "                  operator_prediction[exclude_indices[-1]] = 0\n",
    "                  operators_weights = normalize_weights(operator_prediction)\n",
    "\n",
    "          # Add ending mark\n",
    "          if hh.parameters['verbose']:\n",
    "              print('')\n",
    "\n",
    "      # Print the best one\n",
    "      if hh.parameters['verbose']:\n",
    "          print('\\nBest fitness: {},\\nBest position: {}'.format(current_fitness, current_position))\n",
    "\n",
    "      # Update the repetition register\n",
    "      sequence_per_repetition.append(np.double(current_sequence).astype(int).tolist())\n",
    "      fitness_per_repetition.append(np.double(best_fitness).tolist())\n",
    "\n",
    "      \n",
    "      # Save this historical register\n",
    "      _save_step(rep,\n",
    "                  dict(encoded_solution=np.array(current_sequence),\n",
    "                      best_fitness=np.double(best_fitness),\n",
    "                      best_positions=np.double(best_position),\n",
    "                      details=dict(\n",
    "                          fitness_per_rep=fitness_per_repetition,\n",
    "                          sequence_per_rep=sequence_per_repetition,\n",
    "                      )),\n",
    "                  hh.file_label)\n",
    "      \n",
    "      logs_time.append(timer() - start_time)\n",
    "  df_times = pd.DataFrame({\"time\": logs_time})\n",
    "  df_times.to_csv(f'./data_files/ml_models/{hh.file_label}_mhs_time_prediction_logs.csv')\n",
    "  return sequence_per_repetition, fitness_per_repetition"
   ]
  },
  {
   "cell_type": "markdown",
   "metadata": {},
   "source": [
    "# Generator of training data"
   ]
  },
  {
   "cell_type": "markdown",
   "metadata": {},
   "source": [
    "Auxiliar functions to read, store, or generate metaheuristics for the training dataset. "
   ]
  },
  {
   "cell_type": "code",
   "execution_count": 7,
   "metadata": {},
   "outputs": [],
   "source": [
    "def read_stored_sequences(lim_pages=10):\n",
    "  seqs, costs = [], []\n",
    "  for counting in range(1, lim_pages + 1):\n",
    "    with open(f'vocabulary/seq_read_{counting}.txt', 'r', encoding='utf-8') as file:\n",
    "      seqs = seqs + file.read().split('\\n')  \n",
    "    with open(f'vocabulary/score_{counting}.txt', 'r', encoding='utf-8') as file:\n",
    "      costs = costs + file.read().split('\\n')\n",
    "  return seqs, costs\n",
    "\n",
    "def generate_training_dataset(num_samples=1000):\n",
    "  params = {\n",
    "    'file_label': 'Sphere-10D-default_nn_best_double_lstm',\n",
    "    'num_steps': 100,\n",
    "    'memory_length': 60,\n",
    "    'num_operators': 205,\n",
    "    'load_model': True,\n",
    "    'save_model': False,\n",
    "    'encoder': 'identity',\n",
    "    'model_architecture': 'LSTM',\n",
    "    'model_architecture_layers': [\n",
    "      [20, 'sigmoid', 'LSTM'],\n",
    "      [20, 'sigmoid', 'LSTM']\n",
    "    ],\n",
    "    'fitness_to_weight': 'rank',\n",
    "  }\n",
    "  model = ModelPredictorKeras(params)\n",
    "  seqs, costs = generate_metaheuristics(model, params, num_samples)\n",
    "  return seqs, costs\n",
    "\n",
    "def store_sequences(seqs, costs, lim_sequences_per_page=100):\n",
    "  counting = 0\n",
    "  paths = []\n",
    "  for i in range(0, len(seqs), lim_sequences_per_page):\n",
    "    counting += 1\n",
    "    with open(f'vocabulary/seq_read_{counting}.txt', 'w', encoding='utf-8') as file:\n",
    "      file.write('\\n'.join(seqs[i:i+lim_sequences_per_page]))\n",
    "    with open(f'vocabulary/score_{counting}.txt', 'w', encoding='utf-8') as file:\n",
    "      file.write('\\n'.join([str(x) for x in costs[i:i+lim_sequences_per_page]]))\n",
    "    paths.append(f'vocabulary/seq_read_{counting}.txt')\n",
    "\n",
    "##### Uncomment those functions that would be useful on your case\n",
    "# seqs, costs = generate_training_dataset(1000)\n",
    "# store_sequences(seqs, costs, 100)\n",
    "stored_seqs, stored_costs = read_stored_sequences()\n"
   ]
  },
  {
   "cell_type": "markdown",
   "metadata": {},
   "source": [
    "## Process stored data"
   ]
  },
  {
   "cell_type": "markdown",
   "metadata": {},
   "source": [
    "Auxiliar functions to process the stored data"
   ]
  },
  {
   "cell_type": "code",
   "execution_count": 8,
   "metadata": {},
   "outputs": [],
   "source": [
    "def parse_sequence(seq):\n",
    "  operators = []\n",
    "  prev_idx = 0\n",
    "  counting = 0\n",
    "  for i, c in enumerate(seq):\n",
    "    if c == '(':\n",
    "      counting += 1\n",
    "    if c == ')':\n",
    "      counting -= 1\n",
    "      if counting == 0:\n",
    "        operators.append(seq[prev_idx:i+1])\n",
    "        prev_idx = i + 3\n",
    "  return operators\n",
    "\n",
    "def get_ids_operators(operators):\n",
    "  ids = []\n",
    "  for operator in operators:\n",
    "    ids_bool = np.array(operators_string['default.txt']) == operator\n",
    "    ids.append(np.where(ids_bool)[0][0])\n",
    "  return ids\n",
    "\n",
    "def process_stored_data(seqs=stored_seqs, costs=stored_costs):\n",
    "  seqs_operators = []\n",
    "  seqs_ids = []\n",
    "  for seq in seqs:\n",
    "    operators = parse_sequence(seq)\n",
    "    seq_ids = get_ids_operators(operators)\n",
    "    seqs_operators.append(operators)\n",
    "    seqs_ids.append(seq_ids)\n",
    "  fitnesses = [eval(cost) for cost in costs]\n",
    "  return seqs_operators, seqs_ids, fitnesses\n",
    "\n",
    "seqs_operators, seqs_ids, fitnesses = process_stored_data()"
   ]
  },
  {
   "cell_type": "code",
   "execution_count": 9,
   "metadata": {},
   "outputs": [
    {
     "data": {
      "text/plain": [
       "1000"
      ]
     },
     "execution_count": 9,
     "metadata": {},
     "output_type": "execute_result"
    }
   ],
   "source": [
    "len(seqs_operators)"
   ]
  },
  {
   "cell_type": "markdown",
   "metadata": {},
   "source": [
    "## Obtain best 20% subsequences"
   ]
  },
  {
   "cell_type": "code",
   "execution_count": 10,
   "metadata": {},
   "outputs": [
    {
     "name": "stdout",
     "output_type": "stream",
     "text": [
      "Metal device set to: Apple M1 Pro\n",
      "\n",
      "systemMemory: 16.00 GB\n",
      "maxCacheSize: 5.33 GB\n",
      "\n"
     ]
    }
   ],
   "source": [
    "def obtain_subsequences(percentage=0.2):\n",
    "  _, seqs_ids, fitnesses = process_stored_data()\n",
    "  dataset_id = DatasetSequences(seqs_ids, fitnesses, fitness_to_weight='rank')\n",
    "  seqs_operators, _, fitnesses = process_stored_data()\n",
    "  seqs_compressed_op = [[compress_operator(eval(operator)) for operator in seq] for seq in seqs_operators]\n",
    "  dataset_op = DatasetSequences(seqs_compressed_op, fitnesses, fitness_to_weight='rank')\n",
    "\n",
    "  Xid, yid, _ = dataset_id.obtain_dataset()\n",
    "  Xop, _, fit = dataset_op.obtain_dataset()\n",
    "\n",
    "  all_seqs = list(zip(fit, Xop, Xid, yid))\n",
    "  all_seqs.sort(reverse=True)\n",
    "  return all_seqs[:int(len(all_seqs) * percentage)]\n",
    "\n",
    "all_subsequences = obtain_subsequences(1.0)\n",
    "train_subsequences = obtain_subsequences(0.2)\n",
    "test_subsequences = obtain_subsequences(0.4)[:len(train_subsequences)]\n",
    "\n",
    "# Split information \n",
    "def split_subsequences(subsequences):\n",
    "  readable_seqs = []\n",
    "  readable_full_seqs = []\n",
    "  readable_id_seqs = []\n",
    "  readable_next = []\n",
    "  readable_fitness = []\n",
    "  for fi, xop, xid, yid in subsequences:\n",
    "    readable_seqs.append(' '.join(xop))\n",
    "    readable_full_seqs.append(' '.join([str(decompress_operator(x)) for x in xop]))\n",
    "    readable_id_seqs.append(' '.join([str(x) for x in xid]))\n",
    "    readable_next.append(yid)\n",
    "    readable_fitness.append(fi)\n",
    "  return readable_seqs, readable_full_seqs, readable_id_seqs, readable_next, readable_fitness\n"
   ]
  },
  {
   "cell_type": "code",
   "execution_count": 11,
   "metadata": {},
   "outputs": [],
   "source": [
    "readable_seqs, readable_full_seqs, readable_id_seqs, readable_next, readable_fitness = split_subsequences(train_subsequences)"
   ]
  },
  {
   "cell_type": "code",
   "execution_count": 12,
   "metadata": {},
   "outputs": [],
   "source": [
    "test_readable_seqs, test_readable_full_seqs, test_readable_id_seqs, test_readable_next, test_readable_fitness = split_subsequences(test_subsequences)"
   ]
  },
  {
   "cell_type": "markdown",
   "metadata": {},
   "source": [
    "# Train a tokenizer"
   ]
  },
  {
   "cell_type": "markdown",
   "metadata": {},
   "source": [
    "Train a tokenizer for each possible case (pre-trained model / representation of the sequences) so the transformer model can have a better understanding of the given sequence"
   ]
  },
  {
   "cell_type": "code",
   "execution_count": 13,
   "metadata": {},
   "outputs": [],
   "source": [
    "def train_tokenizer(tokenizer_label,\n",
    "                    pretrained_tokenizer,\n",
    "                    training_data):\n",
    "  old_tokenizer = PreTrainedTokenizerFast.from_pretrained(pretrained_tokenizer)\n",
    "  tokenizer = old_tokenizer.train_new_from_iterator(training_data, vocab_size=30522)\n",
    "  tokenizer.add_special_tokens({'pad_token': '[PAD]'})\n",
    "  tokenizer.save_pretrained('vocabulary/' + tokenizer_label)\n",
    "  tokenizer.push_to_hub(tokenizer_label)\n",
    "  return tokenizer\n",
    "\n",
    "#bert_tokenizer = train_tokenizer('hybertheuristic-tokenizer', 'bert-base-uncased', readable_full_seqs)\n",
    "#bert_tokenizer_ids = train_tokenizer('HyBert-tokenizer-ids', 'distilbert-base-uncased', readable_id_seqs)\n",
    "#bert_tokenizer_compressed = train_tokenizer('HyBert-tokenizer-compress', 'bert-base-uncased', readable_seqs)\n",
    "\n",
    "#gpt_tokenizer_ids = train_tokenizer('HyGpt-tokenizer-ids', 'gpt2', readable_id_seqs)\n",
    "#gpt_tokenizer_compressed = train_tokenizer('HyGpt-tokenizer-compress', 'gpt2', readable_seqs)"
   ]
  },
  {
   "cell_type": "markdown",
   "metadata": {},
   "source": [
    "# Experiments"
   ]
  },
  {
   "cell_type": "markdown",
   "metadata": {},
   "source": [
    "## Pre-process training dataset"
   ]
  },
  {
   "cell_type": "markdown",
   "metadata": {},
   "source": [
    "Auxiliar functions to pre-process plain-text to give to transformer models"
   ]
  },
  {
   "cell_type": "code",
   "execution_count": 14,
   "metadata": {},
   "outputs": [],
   "source": [
    "def prepare_dataset_for_classification(tokenizer, data, max_length, labels=readable_next):\n",
    "  ds_dict = Dataset_hf.from_dict({\n",
    "    'text': data,\n",
    "    'label': labels\n",
    "  })\n",
    "  train_dataset = ds_dict.map(lambda w: tokenizer(w['text'], \n",
    "                                                  truncation=True, \n",
    "                                                  max_length=max_length),\n",
    "                              batched=True)\n",
    "  train_dataset.set_format(type='torch', columns=['input_ids',\n",
    "                                                  'label',\n",
    "                                                  'attention_mask'])\n",
    "  return train_dataset"
   ]
  },
  {
   "cell_type": "code",
   "execution_count": 15,
   "metadata": {},
   "outputs": [],
   "source": [
    "def prepare_training_dataset_for_CLM(tokenizer, max_length):\n",
    "  seqs_operators, _, _ = process_stored_data()\n",
    "  seqs_compressed_op = [[compress_operator(eval(operator)) for operator in seq] for seq in seqs_operators]\n",
    "  seqs_str = [' '.join(a) for a in seqs_compressed_op]\n",
    "\n",
    "  ds_dict = Dataset_hf.from_dict({\n",
    "    'content': seqs_str,\n",
    "  })\n",
    "\n",
    "  train_dataset = ds_dict.map(lambda w: tokenizer(w['content'], \n",
    "                                                  truncation=True,\n",
    "                                                  max_length=max_length,\n",
    "                                                  return_length=True),\n",
    "                              batched=True)\n",
    "\n",
    "  input_batch = []\n",
    "  for length, input_ids in zip(train_dataset[\"length\"], train_dataset[\"input_ids\"]):\n",
    "      if length == max_length:\n",
    "          input_batch.append(input_ids)\n",
    "  ds_train = Dataset_hf.from_dict({\"input_ids\": input_batch})\n",
    "  return ds_train"
   ]
  },
  {
   "cell_type": "markdown",
   "metadata": {},
   "source": [
    "## Classification"
   ]
  },
  {
   "cell_type": "markdown",
   "metadata": {},
   "source": [
    "### General parameters"
   ]
  },
  {
   "cell_type": "code",
   "execution_count": 16,
   "metadata": {},
   "outputs": [],
   "source": [
    "params = {\n",
    "    'file_label': '',\n",
    "    'pretrained_tokenizer' : '',\n",
    "    'pretrained_model': '',\n",
    "    'num_steps': 100,\n",
    "    'num_operators': 205,\n",
    "    'load_model': True,\n",
    "    'save_model': False,\n",
    "    'encoder': 'identity',\n",
    "    'epochs': 1,\n",
    "    'model_architecture': 'transformer_orig',\n",
    "    'fitness_to_weight': 'rank',\n",
    "  }"
   ]
  },
  {
   "cell_type": "code",
   "execution_count": 17,
   "metadata": {},
   "outputs": [],
   "source": [
    "def train_models(train_dataset,\n",
    "                 file_label,\n",
    "                 tokenizer_label,\n",
    "                 pretrained_model, \n",
    "                 epochs):\n",
    "  # Setting missing parameters\n",
    "  params['file_label'] = file_label\n",
    "  params['pretrained_tokenizer'] = tokenizer_label\n",
    "  params['pretrained_model'] = pretrained_model\n",
    "  model = ModelPredictorTransformerOriginal(params)\n",
    "  \n",
    "  # Metric\n",
    "  metric = load_metric_hf(\"accuracy\")\n",
    "  def compute_metrics(eval_pred):\n",
    "      logits, labels = eval_pred\n",
    "      predictions = np.argmax(logits, axis=-1)\n",
    "      return metric.compute(predictions=predictions, references=labels)\n",
    "\n",
    "  # Training\n",
    "  for epoch in range(epochs):\n",
    "    batch_size = 32\n",
    "    if epoch > 0:\n",
    "        model._model = AutoModelForSequenceClassification.from_pretrained(f'{file_label}/model-{epoch-1}')\n",
    "    training_args = TrainingArguments(\n",
    "        output_dir=f'{file_label}/train-{epoch}',\n",
    "        logging_dir=f'{file_label}/train-{epoch}',\n",
    "        evaluation_strategy='epoch',\n",
    "        learning_rate=5e-5,\n",
    "        per_device_train_batch_size=batch_size,\n",
    "        eval_steps=1,\n",
    "        num_train_epochs=1, \n",
    "        weight_decay=0.01,\n",
    "        logging_steps = 1,\n",
    "        disable_tqdm=False)\n",
    "    \n",
    "    data_collator = DataCollatorWithPadding(tokenizer=model._tokenizer, padding=True)\n",
    "    model._trainer = Trainer(\n",
    "        model=model._model,\n",
    "        args=training_args,\n",
    "        train_dataset=train_dataset,\n",
    "        eval_dataset=train_dataset,\n",
    "        tokenizer=model._tokenizer,\n",
    "        data_collator=data_collator,\n",
    "        compute_metrics=compute_metrics\n",
    "    )\n",
    "    \n",
    "    # Fit model\n",
    "    model._trainer.train()\n",
    "\n",
    "    # Save predict function        \n",
    "    model._predict = model._trainer.predict\n",
    "    model._trainer.save_model(f'{file_label}/model-{epoch}')\n",
    "    model._model.push_to_hub(f'{file_label}-model-{epoch}')\n",
    "  return model"
   ]
  },
  {
   "cell_type": "markdown",
   "metadata": {},
   "source": [
    "### Ids"
   ]
  },
  {
   "cell_type": "code",
   "execution_count": 18,
   "metadata": {},
   "outputs": [],
   "source": [
    "args_train = [\n",
    "  {\n",
    "    'pretrained_model': 'distilbert-base-uncased',\n",
    "    'trained_tokenizer': 'HyBert-tokenizer-ids',\n",
    "    'max_length': 512,\n",
    "    'file_label': 'HyBertHeuristic'\n",
    "  },\n",
    "  {\n",
    "    'pretrained_model': 'gpt2',\n",
    "    'trained_tokenizer': 'HyGpt-tokenizer-ids',\n",
    "    'max_length': 1024,\n",
    "    'file_label': 'HyGpt2'\n",
    "  },  \n",
    "]\n",
    "def train_models_based_on_ids(epochs):\n",
    "  models = []\n",
    "  for args_model in args_train:\n",
    "    tokenizer_label = 'josetapia/' + args_model['trained_tokenizer']\n",
    "    tokenizer = AutoTokenizer.from_pretrained(tokenizer_label)\n",
    "    ids_train = \\\n",
    "      prepare_dataset_for_classification(tokenizer, \n",
    "                                        readable_id_seqs, \n",
    "                                        args_model['max_length'])\n",
    "    \n",
    "    model = train_models(ids_train,\n",
    "                args_model['file_label'],\n",
    "                tokenizer_label,\n",
    "                args_model['pretrained_model'],\n",
    "                epochs=epochs)\n",
    "    models.append(model)\n",
    "  return models\n",
    "\n",
    "# Uncomment to train models\n",
    "#models = train_models_based_on_ids(10)"
   ]
  },
  {
   "cell_type": "code",
   "execution_count": 19,
   "metadata": {},
   "outputs": [],
   "source": [
    "def produce_metaheuristics_from_trained_model(epochs):\n",
    "  results = []\n",
    "  for args_model in args_train:\n",
    "    tokenizer_label = 'josetapia/' + args_model['trained_tokenizer']\n",
    "    params['pretrained_tokenizer'] = tokenizer_label\n",
    "    for epoch in range(epochs):\n",
    "      file_label = 'Sphere-10D-'+f'{args_model[\"file_label\"]}-model-{epoch}'\n",
    "      params['file_label'] = file_label\n",
    "      params['pretrained_model'] = 'josetapia/'+f'{args_model[\"file_label\"]}-model-{epoch}'\n",
    "      model = ModelPredictorTransformerOriginal(params)    \n",
    "      seqs_model, costs_model = generate_metaheuristics(model, params)\n",
    "      results.append((seqs_model, costs_model))\n",
    "  return results\n",
    "\n",
    "# Uncomment to produce metaheuristics\n",
    "#results = produce_metaheuristics_from_trained_model(10)\n"
   ]
  },
  {
   "cell_type": "code",
   "execution_count": 20,
   "metadata": {},
   "outputs": [],
   "source": [
    "def evaluate_trained_model(epochs):\n",
    "  for args_model in args_train[:1]:\n",
    "    tokenizer_label = 'josetapia/' + args_model['trained_tokenizer']\n",
    "  params['pretrained_tokenizer'] = tokenizer_label\n",
    "  \n",
    "  tokenizer = AutoTokenizer.from_pretrained(tokenizer_label)\n",
    "  ids_test = \\\n",
    "    prepare_dataset_for_classification(tokenizer, \n",
    "                                      test_readable_id_seqs, \n",
    "                                      args_model['max_length'],\n",
    "                                      test_readable_next)\n",
    "    \n",
    "  for epoch in range(epochs):\n",
    "    file_label = 'Sphere-10D-'+f'{args_model[\"file_label\"]}-model-{epoch}'\n",
    "    params['file_label'] = file_label\n",
    "    params['pretrained_model'] = 'josetapia/'+f'{args_model[\"file_label\"]}-model-{epoch}'\n",
    "    model = ModelPredictorTransformerOriginal(params)    \n",
    "    outputs = model._predict(ids_test)\n",
    "    print(args_model[\"file_label\"], epoch, outputs.metrics['test_accuracy'])\n",
    "\n",
    "# Uncomment to evaluate the models\n",
    "#evaluate_trained_model(10)"
   ]
  },
  {
   "cell_type": "markdown",
   "metadata": {},
   "source": [
    "### Compressed Representation"
   ]
  },
  {
   "cell_type": "code",
   "execution_count": 21,
   "metadata": {},
   "outputs": [],
   "source": [
    "args_train_compress = [\n",
    "  {\n",
    "    'pretrained_model': 'bert-base-uncased',\n",
    "    'trained_tokenizer': 'HyBert-tokenizer-compress',\n",
    "    'max_length': 512,\n",
    "    'file_label': 'HyBertHeuristic_compressed'\n",
    "  },\n",
    "  {\n",
    "    'pretrained_model': 'gpt2',\n",
    "    'trained_tokenizer': 'HyGpt-tokenizer-compress',\n",
    "    'max_length': 1024,\n",
    "    'file_label': 'HyGpt2_compressed'\n",
    "  },  \n",
    "]\n",
    "def train_models_based_on_compressed_id(epochs=10):\n",
    "  models = []\n",
    "  for args_model in args_train_compress:\n",
    "    tokenizer_label = 'josetapia/' + args_model['trained_tokenizer']\n",
    "    tokenizer = AutoTokenizer.from_pretrained(tokenizer_label)\n",
    "    ids_train = \\\n",
    "      prepare_dataset_for_classification(tokenizer, \n",
    "                                        readable_seqs, \n",
    "                                        args_model['max_length'])\n",
    "    \n",
    "    model = train_models(ids_train,\n",
    "                args_model['file_label'],\n",
    "                tokenizer_label,\n",
    "                args_model['pretrained_model'],\n",
    "                epochs=epochs)\n",
    "    models.append(model)\n",
    "  return models\n",
    "\n",
    "#models = train_models_based_on_compressed_id()"
   ]
  },
  {
   "cell_type": "code",
   "execution_count": 22,
   "metadata": {},
   "outputs": [],
   "source": [
    "def produce_metaheuristics_from_trained_model_compress(epochs):\n",
    "  results_compress = []\n",
    "  for args_model in args_train_compress:\n",
    "    tokenizer_label = 'josetapia/' + args_model['trained_tokenizer']\n",
    "    params['pretrained_tokenizer'] = tokenizer_label\n",
    "    for epoch in range(epochs):\n",
    "      file_label = 'Sphere-10D-'+f'{args_model[\"file_label\"]}-model-{epoch}'\n",
    "      params['file_label'] = file_label\n",
    "      params['pretrained_model'] = 'josetapia/'+f'{args_model[\"file_label\"]}-model-{epoch}'\n",
    "      model = ModelPredictorTransformerOriginal(params)    \n",
    "      seqs_model, costs_model = generate_metaheuristics(model, params)\n",
    "      results_compress.append((seqs_model, costs_model))\n",
    "  return results_compress\n",
    "\n",
    "#results_compress = produce_metaheuristics_from_trained_model_compress()"
   ]
  },
  {
   "cell_type": "code",
   "execution_count": 23,
   "metadata": {},
   "outputs": [],
   "source": [
    "def evaluate_trained_model_compress(epochs):\n",
    "  for args_model in args_train_compress[:1]:\n",
    "    tokenizer_label = 'josetapia/' + args_model['trained_tokenizer']\n",
    "  params['pretrained_tokenizer'] = tokenizer_label\n",
    "  \n",
    "  tokenizer = AutoTokenizer.from_pretrained(tokenizer_label)\n",
    "  ids_test = \\\n",
    "    prepare_dataset_for_classification(tokenizer, \n",
    "                                      test_readable_seqs, \n",
    "                                      args_model['max_length'],\n",
    "                                      test_readable_next)\n",
    "    \n",
    "  for epoch in range(epochs):\n",
    "    file_label = 'Sphere-10D-'+f'{args_model[\"file_label\"]}-model-{epoch}'\n",
    "    params['file_label'] = file_label\n",
    "    params['pretrained_model'] = 'josetapia/'+f'{args_model[\"file_label\"]}-model-{epoch}'\n",
    "    model = ModelPredictorTransformerOriginal(params)    \n",
    "    outputs = model._predict(ids_test)\n",
    "    print(args_model[\"file_label\"], epoch, outputs.metrics['test_accuracy'])\n",
    "\n",
    "# Uncomment to evaluate the models\n",
    "#evaluate_trained_model_compress(10)"
   ]
  },
  {
   "cell_type": "markdown",
   "metadata": {},
   "source": [
    "## Casual Language Model"
   ]
  },
  {
   "cell_type": "code",
   "execution_count": 24,
   "metadata": {},
   "outputs": [],
   "source": [
    "def train_from_scratch(tokenizer_label, context_length=1024):\n",
    "  # Tokenizer\n",
    "  tokenizer = AutoTokenizer.from_pretrained(tokenizer_label)\n",
    "  tokenizer.add_special_tokens({'pad_token': '[PAD]'})\n",
    "\n",
    "  # Dataset  \n",
    "  ds_train = prepare_training_dataset_for_CLM(tokenizer, context_length)\n",
    "\n",
    "  # Model's arguments\n",
    "  config = AutoConfig.from_pretrained(\n",
    "    \"gpt2\",\n",
    "    vocab_size=len(tokenizer),\n",
    "    n_ctx=context_length,\n",
    "    bos_token_id=tokenizer.bos_token_id,\n",
    "    eos_token_id=tokenizer.eos_token_id,\n",
    "  )\n",
    "  model = GPT2LMHeadModel(config)\n",
    "  data_collator = DataCollatorForLanguageModeling(tokenizer, mlm=False)\n",
    "\n",
    "  args = TrainingArguments(\n",
    "      output_dir=\"hygpt2-clm\",\n",
    "      per_device_train_batch_size=32,\n",
    "      per_device_eval_batch_size=32,\n",
    "      evaluation_strategy=\"steps\",\n",
    "      eval_steps=5_000,\n",
    "      logging_steps=5_000,\n",
    "      gradient_accumulation_steps=8,\n",
    "      num_train_epochs=1,\n",
    "      weight_decay=0.1,\n",
    "      warmup_steps=1_000,\n",
    "      lr_scheduler_type=\"cosine\",\n",
    "      learning_rate=5e-4,\n",
    "      save_steps=5_000,\n",
    "      #fp16=True,\n",
    "      disable_tqdm=False,\n",
    "      push_to_hub=True,\n",
    "  )\n",
    "      \n",
    "  trainer = Trainer(\n",
    "      model=model,\n",
    "      tokenizer=tokenizer,\n",
    "      args=args,\n",
    "      data_collator=data_collator,\n",
    "      train_dataset=ds_train,\n",
    "      eval_dataset=ds_train,\n",
    "  )\n",
    "  trainer.train()\n",
    "  trainer.save_model('HyGpt/hygpt-compress-clm')\n",
    "  trainer.push_to_hub('hygpt-compress-clm')\n",
    "  return trainer\n",
    "\n",
    "# Uncomment to train a CLM model\n",
    "#model = train_from_scratch('josetapia/' + 'HyGpt-tokenizer-compress', 1024)"
   ]
  },
  {
   "cell_type": "code",
   "execution_count": 33,
   "metadata": {},
   "outputs": [],
   "source": [
    "# Generate data\n",
    "seqs_compressed_op = [[compress_operator(eval(operator)) for operator in seq] for seq in seqs_operators]\n",
    "\n",
    "# Fetch trained model\n",
    "local = True\n",
    "pipe = pipeline(\n",
    "    \"text-generation\", model= 'transformer_models/hygpt2-cml' if local else \"josetapia/hygpt2-cml-gen\", max_length=1024\n",
    ")"
   ]
  },
  {
   "cell_type": "markdown",
   "metadata": {},
   "source": [
    "Example of usage"
   ]
  },
  {
   "cell_type": "code",
   "execution_count": 34,
   "metadata": {},
   "outputs": [
    {
     "name": "stdout",
     "output_type": "stream",
     "text": [
      "GC,r;l;0.4,g_____________ GS,1.0;0.02,p____________ GC,t;b;0.4,g_____________ GC,t;b;0.4,d_____________ GC,t;b;0.4,g_____________ GC,t;two;0.4,m___________ GC,t;b;0.4,d_____________ RS,0.01;u,p______________ RW,0.75;1.0;u,d__________ PS,1.0;2.54;2.56;c;g,g___ RS,0.01;levy,g___________ GC,t;u;0.4,g_____________ GC,t;u;0.4,g_____________ GC,r;u;0.4,m_____________ GC,t;s;0.4,m_____________ GC,r;b;0.4,p_____________ GC,r;two;0.4,p___________ SD,0.9;22.5;0.1,p________ GC,cost;u;0.4,d__________ GC,t;two;0.4,p___________ DM,rtbc;1;1.0,p__________ GC,t;b;0.4,g_____________ SD,0.9;22.5;0.1,p________ DM,best;1;1.0,d__________ DM,rtb;1;1.0,g___________ GC,r;l;0.4,m_____________ GC,r;l;0.4,m_____________ GC,cost;b;0.4,p__________ RW,0.75;1.0;u,m__________ DM,best;1;1.0,p__________ GC,p GC,p GC,t;1.4,d DM,m RF,r;,p GC,p RW,d GC,t;g GC,d DM,g,0.4,r;1.0;0.56;0.75;0;1;1;2.4,m RW,m RF,p GC,r;u;1;l;u;0.4,g,best;0,r;b;b;2.5;0.4,t;0.4,0.0.4,p RS,1;2.0.4,1.0;0.4,p PS,t;b;1;u;0;b;2.4,r;0.4,r;1.4,g,g DM,0.5,d GC,r;u,m GC,m GC,r;1.4,p GC,t;0.5,1.0.0.4,p RF,m RS,g,r;1;2.0;0.4,0.0,g GC,t;2.0.en;2.54;1;0.4,0.4,d GC,m DM,m GC,m RF,g RF,r;b;0,currenttobest;0;two;0;0.5;l;b;c;0.4,r;1.4,1;0.4,d DM,t;two;1.4,g,best;0;u;u,d GC,t;b;u;0;u;levy,ev;s;1,d GC,0;c;u,0;c;u;0,t;0;2.4,m RS,t;g RW,m PS,m GC,t;l;2.4,r;0,g,t;g GC,g,p GC,best;c;b;u,d RF,m GC,best;22.4,0.5;u;1;0.0.75;1.4,rank;0;1,g GC,p GC,r;b;0;two;2.0.4,g GC,p RS,t;levy;0,m RS,currenttobest;two;0.4,r;0;2.0;levy;b;0;u,p RF,1.4,rank;2.01;s;0.4,r;2.4,current;0.4,m CF,m GC,t;g,d PS,g GC,m RF,m GC,p DM,p DM,RS;1.4,d RS,m GC,t;u,t;0.0.0;0.4,d GC,t;1;c;u;s;1;l;1.4,g PS,0.F,0;2.1.0;0;2.0;u;1;5;0;g,g,\n"
     ]
    }
   ],
   "source": [
    "txt = 'GC,r;l;0.4,g_____________ GS,1.0;0.02,p____________ GC,t;b;0.4,g_____________ GC,t;b;0.4,d_____________ GC,t;b;0.4,g_____________ GC,t;two;0.4,m___________ GC,t;b;0.4,d_____________ RS,0.01;u,p______________ RW,0.75;1.0;u,d__________ PS,1.0;2.54;2.56;c;g,g___ RS,0.01;levy,g___________ GC,t;u;0.4,g_____________ GC,t;u;0.4,g_____________ GC,r;u;0.4,m_____________ GC,t;s;0.4,m_____________ GC,r;b;0.4,p_____________ GC,r;two;0.4,p___________ SD,0.9;22.5;0.1,p________ GC,cost;u;0.4,d__________ GC,t;two;0.4,p___________ DM,rtbc;1;1.0,p__________ GC,t;b;0.4,g_____________ SD,0.9;22.5;0.1,p________ DM,best;1;1.0,d__________ DM,rtb;1;1.0,g___________ GC,r;l;0.4,m_____________ GC,r;l;0.4,m_____________ GC,cost;b;0.4,p__________ RW,0.75;1.0;u,m__________ DM,best;1;1.0,p__________'\n",
    "print(pipe(txt, num_return_sequences=1)[0][\"generated_text\"])"
   ]
  },
  {
   "cell_type": "markdown",
   "metadata": {},
   "source": [
    "# Results"
   ]
  },
  {
   "cell_type": "markdown",
   "metadata": {},
   "source": [
    "Process data"
   ]
  },
  {
   "cell_type": "code",
   "execution_count": 35,
   "metadata": {},
   "outputs": [],
   "source": [
    "exp_names = [\"HyBertHeuristic-model-\"+str(case) for case in range(20)] + \\\n",
    "  ['HyGpt-model-'+str(case) for case in range(10)] + \\\n",
    "    ['HyGpt-compress-tests']"
   ]
  },
  {
   "cell_type": "code",
   "execution_count": 36,
   "metadata": {},
   "outputs": [],
   "source": [
    "fitness_good = []\n",
    "last_fitness = lambda seqs: [seq[-1] for seq in seqs]\n",
    "\n",
    "for exp_name in exp_names:\n",
    "  A = read_json('transformer_experiments/'+exp_name+'.json')\n",
    "  z = last_fitness(A['results'][0]['hist_fitness'])\n",
    "  fitness_good.append(z)"
   ]
  },
  {
   "cell_type": "code",
   "execution_count": 37,
   "metadata": {},
   "outputs": [],
   "source": [
    "def compute_fitness(seq):\n",
    "  return np.median(seq) + st.iqr(seq)"
   ]
  },
  {
   "cell_type": "code",
   "execution_count": 38,
   "metadata": {},
   "outputs": [
    {
     "data": {
      "text/plain": [
       "0.08057391128452633"
      ]
     },
     "execution_count": 38,
     "metadata": {},
     "output_type": "execute_result"
    }
   ],
   "source": [
    "last_fitness = [x[-1] for x in fitnesses[:100]]\n",
    "compute_fitness(last_fitness)"
   ]
  },
  {
   "cell_type": "code",
   "execution_count": 39,
   "metadata": {},
   "outputs": [
    {
     "data": {
      "image/png": "[encoded data removed]",
      "text/plain": [
       "<Figure size 3600x720 with 1 Axes>"
      ]
     },
     "metadata": {
      "needs_background": "light"
     },
     "output_type": "display_data"
    }
   ],
   "source": [
    "seqs_operators, seqs_ids, fitnesses = process_stored_data()\n",
    "fig = plt.figure(figsize =(50, 10))\n",
    "\n",
    "# Creating axes instance\n",
    "ax = fig.add_axes([0, 0, 1, 1])\n",
    " \n",
    "def last_fitness(seqs):\n",
    "  return [x[-1] for x in seqs] \n",
    " \n",
    "data = fitness_good \n",
    "\n",
    "# Creating plot\n",
    "bp = ax.boxplot(data, showmeans=True)\n",
    "m1 = [np.mean(x) for x in data]\n",
    "med1 = [np.median(x) for x in data]\n",
    "st1 = [np.std(x) for x in data]\n",
    "\n",
    "for i, line in enumerate(bp['medians']):\n",
    "  x, y = line.get_xydata()[1]\n",
    "  \n",
    "  text = '\\n'.join((\n",
    "  r'$\\mu=%.1f$' % (m1[i], ),\n",
    "  r'$\\sigma=%.1f$' % (st1[i], )))\n",
    "  ax.annotate(text, xy=(x+0.03, y-2.95))\n",
    "ax.set_xticklabels(exp_names)\n",
    "fig.subplots_adjust()\n",
    "locs, labels = plt.xticks()\n",
    "plt.setp(labels, rotation=45)\n",
    "\n",
    "fig.tight_layout()\n",
    "plt.ylabel('Fitness')\n",
    "# show plot\n",
    "figures_folder = 'transformer_experiments/'\n",
    "saving_format = 'png'\n",
    "fig.savefig(figures_folder + 'results_box_plots.' + saving_format, \n",
    "                    format=saving_format, bbox_inches=\"tight\", dpi=333, transparent=True)\n",
    "plt.show()"
   ]
  },
  {
   "cell_type": "code",
   "execution_count": 40,
   "metadata": {},
   "outputs": [],
   "source": [
    "A, B, C = [], [], []\n",
    "for x, y in zip(fitness_good, exp_names):\n",
    "  z = compute_fitness(x)\n",
    "  if 'HyBertHeuristic' in y:\n",
    "    A.append(z)\n",
    "  elif 'HyGpt-m' in y:\n",
    "    B.append(z)\n",
    "  else:\n",
    "    C.append(z)"
   ]
  },
  {
   "cell_type": "code",
   "execution_count": 41,
   "metadata": {},
   "outputs": [
    {
     "data": {
      "image/png": "[encoded data removed]",
      "text/plain": [
       "<Figure size 720x360 with 1 Axes>"
      ]
     },
     "metadata": {
      "needs_background": "light"
     },
     "output_type": "display_data"
    }
   ],
   "source": [
    "fi1 = plt.figure(figsize=(10, 5))\n",
    "ax = fi1.add_axes([0, 0, 1, 1])\n",
    "\n",
    "plt.plot(A[:10], label='HyBert')\n",
    "plt.plot(B, label='HyGpt')\n",
    "plt.legend()\n",
    "plt.xlabel('Epochs')\n",
    "plt.ylabel('Performance')\n",
    "plt.title('Performance of HH models')\n",
    "\n",
    "ax.set_xticks(range(10))\n",
    "ax.set_xticklabels([str(x) for x in range(1, 11)])\n",
    "\n",
    "plt.rc('font', size=18)     \n",
    "plt.rcParams['axes.labelsize'] = 21\n",
    "plt.rcParams['axes.titlesize'] = 21\n",
    "\n",
    "plt.savefig(figures_folder + f'comparison_exps.' + saving_format,\n",
    "            format=saving_format,bbox_inches = 'tight', dpi=333, transparent=True)\n",
    "plt.show()\n"
   ]
  },
  {
   "cell_type": "code",
   "execution_count": null,
   "metadata": {},
   "outputs": [],
   "source": []
  }
 ],
 "metadata": {
  "kernelspec": {
   "display_name": "Python 3.9.10 ('tensorflow')",
   "language": "python",
   "name": "python3"
  },
  "language_info": {
   "codemirror_mode": {
    "name": "ipython",
    "version": 3
   },
   "file_extension": ".py",
   "mimetype": "text/x-python",
   "name": "python",
   "nbconvert_exporter": "python",
   "pygments_lexer": "ipython3",
   "version": "3.9.10"
  },
  "orig_nbformat": 4,
  "vscode": {
   "interpreter": {
    "hash": "13a1a4c7f867d5ec33b811066f10a0e467cde7b9dca366a8ff958366b3d34ba1"
   }
  }
 },
 "nbformat": 4,
 "nbformat_minor": 2
}
